{
 "cells": [
  {
   "cell_type": "markdown",
   "metadata": {},
   "source": [
    "## Observations and Insights"
   ]
  },
  {
   "cell_type": "markdown",
   "metadata": {},
   "source": []
  },
  {
   "cell_type": "markdown",
   "metadata": {},
   "source": [
    "## Dependencies and starter code"
   ]
  },
  {
   "cell_type": "code",
   "execution_count": 1,
   "metadata": {},
   "outputs": [],
   "source": [
    "# Dependencies and Setup\n",
    "import matplotlib.pyplot as plt\n",
    "import pandas as pd\n",
    "import scipy.stats as st\n",
    "\n",
    "# Study data files\n",
    "mouse_metadata = \"data/Mouse_metadata.csv\"\n",
    "study_results = \"data/Study_results.csv\"\n",
    "\n",
    "# Read the mouse data and the study results\n",
    "mouse_metadata = pd.read_csv(mouse_metadata)\n",
    "study_results = pd.read_csv(study_results)\n",
    "\n",
    "# Combine the data into a single dataset\n",
    "combined_df = pd.merge(mouse_metadata,study_results,on=\"Mouse ID\")\n"
   ]
  },
  {
   "cell_type": "markdown",
   "metadata": {},
   "source": [
    "## Summary statistics"
   ]
  },
  {
   "cell_type": "code",
   "execution_count": 2,
   "metadata": {},
   "outputs": [
    {
     "data": {
      "text/html": [
       "<div>\n",
       "<style scoped>\n",
       "    .dataframe tbody tr th:only-of-type {\n",
       "        vertical-align: middle;\n",
       "    }\n",
       "\n",
       "    .dataframe tbody tr th {\n",
       "        vertical-align: top;\n",
       "    }\n",
       "\n",
       "    .dataframe thead th {\n",
       "        text-align: right;\n",
       "    }\n",
       "</style>\n",
       "<table border=\"1\" class=\"dataframe\">\n",
       "  <thead>\n",
       "    <tr style=\"text-align: right;\">\n",
       "      <th></th>\n",
       "      <th>Drug Regimen</th>\n",
       "      <th>Tumor Volume (mm3) - Mean</th>\n",
       "      <th>Tumor Volume (mm3) - Median</th>\n",
       "      <th>Tumor Volume (mm3) - Variance</th>\n",
       "      <th>Tumor Volume (mm3) - Std Deviation</th>\n",
       "      <th>Tumor Volume (mm3) - SEM</th>\n",
       "    </tr>\n",
       "  </thead>\n",
       "  <tbody>\n",
       "    <tr>\n",
       "      <th>0</th>\n",
       "      <td>Capomulin</td>\n",
       "      <td>40.675741</td>\n",
       "      <td>41.557809</td>\n",
       "      <td>24.947764</td>\n",
       "      <td>4.994774</td>\n",
       "      <td>0.329346</td>\n",
       "    </tr>\n",
       "    <tr>\n",
       "      <th>1</th>\n",
       "      <td>Ceftamin</td>\n",
       "      <td>52.591172</td>\n",
       "      <td>51.776157</td>\n",
       "      <td>39.290177</td>\n",
       "      <td>6.268188</td>\n",
       "      <td>0.469821</td>\n",
       "    </tr>\n",
       "    <tr>\n",
       "      <th>2</th>\n",
       "      <td>Infubinol</td>\n",
       "      <td>52.884795</td>\n",
       "      <td>51.820584</td>\n",
       "      <td>43.128684</td>\n",
       "      <td>6.567243</td>\n",
       "      <td>0.492236</td>\n",
       "    </tr>\n",
       "    <tr>\n",
       "      <th>3</th>\n",
       "      <td>Ketapril</td>\n",
       "      <td>55.235638</td>\n",
       "      <td>53.698743</td>\n",
       "      <td>68.553577</td>\n",
       "      <td>8.279709</td>\n",
       "      <td>0.603860</td>\n",
       "    </tr>\n",
       "    <tr>\n",
       "      <th>4</th>\n",
       "      <td>Naftisol</td>\n",
       "      <td>54.331565</td>\n",
       "      <td>52.509285</td>\n",
       "      <td>66.173479</td>\n",
       "      <td>8.134708</td>\n",
       "      <td>0.596466</td>\n",
       "    </tr>\n",
       "    <tr>\n",
       "      <th>5</th>\n",
       "      <td>Placebo</td>\n",
       "      <td>54.033581</td>\n",
       "      <td>52.288934</td>\n",
       "      <td>61.168083</td>\n",
       "      <td>7.821003</td>\n",
       "      <td>0.581331</td>\n",
       "    </tr>\n",
       "    <tr>\n",
       "      <th>6</th>\n",
       "      <td>Propriva</td>\n",
       "      <td>52.322552</td>\n",
       "      <td>50.854632</td>\n",
       "      <td>42.351070</td>\n",
       "      <td>6.507770</td>\n",
       "      <td>0.512884</td>\n",
       "    </tr>\n",
       "    <tr>\n",
       "      <th>7</th>\n",
       "      <td>Ramicane</td>\n",
       "      <td>40.216745</td>\n",
       "      <td>40.673236</td>\n",
       "      <td>23.486704</td>\n",
       "      <td>4.846308</td>\n",
       "      <td>0.320955</td>\n",
       "    </tr>\n",
       "    <tr>\n",
       "      <th>8</th>\n",
       "      <td>Stelasyn</td>\n",
       "      <td>54.233149</td>\n",
       "      <td>52.431737</td>\n",
       "      <td>59.450562</td>\n",
       "      <td>7.710419</td>\n",
       "      <td>0.573111</td>\n",
       "    </tr>\n",
       "    <tr>\n",
       "      <th>9</th>\n",
       "      <td>Zoniferol</td>\n",
       "      <td>53.236507</td>\n",
       "      <td>51.818479</td>\n",
       "      <td>48.533355</td>\n",
       "      <td>6.966589</td>\n",
       "      <td>0.516398</td>\n",
       "    </tr>\n",
       "  </tbody>\n",
       "</table>\n",
       "</div>"
      ],
      "text/plain": [
       "  Drug Regimen  Tumor Volume (mm3) - Mean  Tumor Volume (mm3) - Median  \\\n",
       "0    Capomulin                  40.675741                    41.557809   \n",
       "1     Ceftamin                  52.591172                    51.776157   \n",
       "2    Infubinol                  52.884795                    51.820584   \n",
       "3     Ketapril                  55.235638                    53.698743   \n",
       "4     Naftisol                  54.331565                    52.509285   \n",
       "5      Placebo                  54.033581                    52.288934   \n",
       "6     Propriva                  52.322552                    50.854632   \n",
       "7     Ramicane                  40.216745                    40.673236   \n",
       "8     Stelasyn                  54.233149                    52.431737   \n",
       "9    Zoniferol                  53.236507                    51.818479   \n",
       "\n",
       "   Tumor Volume (mm3) - Variance  Tumor Volume (mm3) - Std Deviation  \\\n",
       "0                      24.947764                            4.994774   \n",
       "1                      39.290177                            6.268188   \n",
       "2                      43.128684                            6.567243   \n",
       "3                      68.553577                            8.279709   \n",
       "4                      66.173479                            8.134708   \n",
       "5                      61.168083                            7.821003   \n",
       "6                      42.351070                            6.507770   \n",
       "7                      23.486704                            4.846308   \n",
       "8                      59.450562                            7.710419   \n",
       "9                      48.533355                            6.966589   \n",
       "\n",
       "   Tumor Volume (mm3) - SEM  \n",
       "0                  0.329346  \n",
       "1                  0.469821  \n",
       "2                  0.492236  \n",
       "3                  0.603860  \n",
       "4                  0.596466  \n",
       "5                  0.581331  \n",
       "6                  0.512884  \n",
       "7                  0.320955  \n",
       "8                  0.573111  \n",
       "9                  0.516398  "
      ]
     },
     "execution_count": 2,
     "metadata": {},
     "output_type": "execute_result"
    }
   ],
   "source": [
    "# Generate a summary statistics table of mean, median, variance, standard deviation, and SEM of the tumor volume for each regimen\n",
    "# Create DataFrame with only the Drug Regimen and Tumor Volume (mm3) columns with the Combined DataFrame\n",
    "regimen_tumor_volume_df = combined_df[[\"Drug Regimen\",\"Tumor Volume (mm3)\"]]\n",
    "\n",
    "# Group by the Drug Regimen\n",
    "regimen_tumor_volume_grp=regimen_tumor_volume_df.groupby(\"Drug Regimen\")\n",
    "\n",
    "# Use functions for the group (mean, median, variance, and standard deviation) to get the values by Drug Regimen\n",
    "# Merge the results of the grouping into one DataFrame for Stats, rename columns to show the correct header for each column\n",
    "regimen_tumor_volume_stats_df = pd.merge(regimen_tumor_volume_grp.mean(),regimen_tumor_volume_grp.median(),on=\"Drug Regimen\")\n",
    "regimen_tumor_volume_stats_df.rename(columns={\"Tumor Volume (mm3)_x\":\"Tumor Volume (mm3) - Mean\",\n",
    "                                     \"Tumor Volume (mm3)_y\":\"Tumor Volume (mm3) - Median\"},\n",
    "                                     inplace=True)\n",
    "regimen_tumor_volume_stats_df = pd.merge(regimen_tumor_volume_stats_df,regimen_tumor_volume_grp.var(),on=\"Drug Regimen\")\n",
    "regimen_tumor_volume_stats_df.rename(columns={\"Tumor Volume (mm3)\":\"Tumor Volume (mm3) - Variance\"},inplace=True)\n",
    "regimen_tumor_volume_stats_df = pd.merge(regimen_tumor_volume_stats_df,regimen_tumor_volume_grp.std(),on=\"Drug Regimen\")\n",
    "regimen_tumor_volume_stats_df.rename(columns={\"Tumor Volume (mm3)\":\"Tumor Volume (mm3) - Std Deviation\"},inplace=True)\n",
    "\n",
    "# Create an empty DataFrame for storing the SEM values\n",
    "SEM_df = pd.DataFrame(columns=[\"Drug Regimen\",\"Tumor Volume (mm3) - SEM\"])\n",
    "\n",
    "# Loop through the unique Drug Regimen values\n",
    "for regimen in regimen_tumor_volume_df[\"Drug Regimen\"].unique():\n",
    "    # Load a DataFrame with the data for the Drug Regimen\n",
    "    temp_df=regimen_tumor_volume_df.loc[regimen_tumor_volume_df[\"Drug Regimen\"] == regimen]\n",
    "    \n",
    "    # Create a single row Dataframe with the Regimen and SEM\n",
    "    df= pd.DataFrame([[regimen, st.sem(temp_df[\"Tumor Volume (mm3)\"])]],columns=[\"Drug Regimen\",\"Tumor Volume (mm3) - SEM\"])\n",
    "    # Concatenate the single row DataFrame into the SEM DataFrame\n",
    "    SEM_df = pd.concat([SEM_df,df])\n",
    "\n",
    "# Merge the SEM DataFrame into the Stats DataFrame\n",
    "regimen_tumor_volume_stats_df = pd.merge(regimen_tumor_volume_stats_df,SEM_df,on=\"Drug Regimen\")\n",
    "\n",
    "# Display the Summary Data\n",
    "regimen_tumor_volume_stats_df\n"
   ]
  },
  {
   "cell_type": "markdown",
   "metadata": {},
   "source": [
    "## Bar plots"
   ]
  },
  {
   "cell_type": "code",
   "execution_count": 3,
   "metadata": {},
   "outputs": [
    {
     "data": {
      "image/png": "[encoded data removed]",
      "text/plain": [
       "<Figure size 432x288 with 1 Axes>"
      ]
     },
     "metadata": {
      "needs_background": "light"
     },
     "output_type": "display_data"
    }
   ],
   "source": [
    "# Generate a bar plot showing number of data points for each treatment regimen using pandas\n",
    "\n",
    "# Create a DataFrame with all Drug Regimen and Mouse ID data\n",
    "mouse_drug_df = combined_df[[\"Drug Regimen\",\"Mouse ID\"]]\n",
    "# Remove the duplicate rows\n",
    "mouse_drug_df = mouse_drug_df.drop_duplicates()\n",
    "\n",
    "# Get the labels for the x-axis and sort them\n",
    "drug_regimen = mouse_drug_df[\"Drug Regimen\"].unique()\n",
    "drug_regimen.sort()\n",
    "\n",
    "# Group the remaining data by Drug Regimen\n",
    "drug_grp = mouse_drug_df.groupby(\"Drug Regimen\")\n",
    "\n",
    "# Get a count of total mice for each Drug Regimen\n",
    "drug_count_df = drug_grp.count()\n",
    "\n",
    "# Sort by Drug Regimen\n",
    "drug_count_df = drug_count_df.sort_values(\"Drug Regimen\")\n",
    "\n",
    "# Get the series of total mice for the bar chart\n",
    "mouse_count = drug_count_df[\"Mouse ID\"]\n",
    "\n",
    "# Use Pandas to create Bar Chart\n",
    "chart = drug_count_df.plot(kind=\"bar\",color=\"red\",legend=False,title=\"Number of Mice per Drug Regimen\",rot=75, width=.75)\n",
    "chart.set_ylabel(\"Number of Mice\")\n",
    "chart.set_xlim=(-.89, 12)\n",
    "\n",
    "# Display the Bar Chart\n",
    "plt.show()"
   ]
  },
  {
   "cell_type": "code",
   "execution_count": 4,
   "metadata": {
    "scrolled": true
   },
   "outputs": [
    {
     "data": {
      "image/png": "[encoded data removed]",
      "text/plain": [
       "<Figure size 432x288 with 1 Axes>"
      ]
     },
     "metadata": {
      "needs_background": "light"
     },
     "output_type": "display_data"
    }
   ],
   "source": [
    "# Generate a bar plot showing number of data points for each treatment regimen using pyplot\n",
    "\n",
    "# Use matplotlib to create Bar Chart\n",
    "plt.bar(drug_regimen,mouse_count,color=\"red\")\n",
    "\n",
    "# Set Labels, Title\n",
    "plt.xlabel(\"Drug Regimen\")\n",
    "plt.xticks(rotation=75)\n",
    "plt.ylabel(\"Number of Mice\")\n",
    "plt.title(\"Number of Mice per Drug Regimen\")\n",
    "\n",
    "plt.xlim(-.89,9.89)\n",
    "#display the Bar Chart\n",
    "plt.show()\n"
   ]
  },
  {
   "cell_type": "markdown",
   "metadata": {},
   "source": [
    "## Pie plots"
   ]
  },
  {
   "cell_type": "code",
   "execution_count": 5,
   "metadata": {},
   "outputs": [
    {
     "data": {
      "image/png": "[encoded data removed]",
      "text/plain": [
       "<Figure size 432x288 with 1 Axes>"
      ]
     },
     "metadata": {},
     "output_type": "display_data"
    }
   ],
   "source": [
    "# Generate a pie plot showing the distribution of female versus male mice using pandas\n",
    "mouse_type_grp = mouse_metadata.groupby(\"Sex\")\n",
    "mouse_type_count_df = mouse_type_grp.count()\n",
    "mouse_type_count_df = mouse_type_count_df.drop({\"Drug Regimen\",\"Age_months\",\"Weight (g)\"},axis=1)\n",
    "mouse_type_count_df.rename(columns={\"Mouse ID\":\"NumberOfMice\"},inplace=True)\n",
    "mouse_type_count_df\n",
    "m_f_distribution = mouse_type_count_df.plot(kind=\"pie\",y=\"NumberOfMice\")\n",
    "m_f_distribution.set_ylabel(\"\")\n",
    "plt.show()"
   ]
  },
  {
   "cell_type": "code",
   "execution_count": 6,
   "metadata": {},
   "outputs": [
    {
     "data": {
      "image/png": "[encoded data removed]",
      "text/plain": [
       "<Figure size 432x288 with 1 Axes>"
      ]
     },
     "metadata": {},
     "output_type": "display_data"
    }
   ],
   "source": [
    "# Generate a pie plot showing the distribution of female versus male mice using pyplot\n",
    "mouse_type_count_df=mouse_type_count_df.reset_index()\n",
    "labels = mouse_type_count_df[\"Sex\"].unique()\n",
    "plt.pie(mouse_type_count_df[\"NumberOfMice\"],labels=labels)\n",
    "plt.legend()\n",
    "plt.show()"
   ]
  },
  {
   "cell_type": "markdown",
   "metadata": {},
   "source": [
    "## Quartiles, outliers and boxplots"
   ]
  },
  {
   "cell_type": "code",
   "execution_count": 8,
   "metadata": {},
   "outputs": [],
   "source": [
    "# Calculate the final tumor volume of each mouse across four of the most promising treatment regimens. Calculate the IQR and quantitatively determine if there are any potential outliers. "
   ]
  },
  {
   "cell_type": "code",
   "execution_count": 9,
   "metadata": {},
   "outputs": [],
   "source": [
    "# Generate a box plot of the final tumor volume of each mouse across four regimens of interest"
   ]
  },
  {
   "cell_type": "markdown",
   "metadata": {},
   "source": [
    "## Line and scatter plots"
   ]
  },
  {
   "cell_type": "code",
   "execution_count": 10,
   "metadata": {},
   "outputs": [],
   "source": [
    "# Generate a line plot of time point versus tumor volume for a mouse treated with Capomulin"
   ]
  },
  {
   "cell_type": "code",
   "execution_count": 11,
   "metadata": {},
   "outputs": [],
   "source": [
    "# Generate a scatter plot of mouse weight versus average tumor volume for the Capomulin regimen"
   ]
  },
  {
   "cell_type": "code",
   "execution_count": 12,
   "metadata": {},
   "outputs": [],
   "source": [
    "# Calculate the correlation coefficient and linear regression model for mouse weight and average tumor volume for the Capomulin regimen"
   ]
  },
  {
   "cell_type": "code",
   "execution_count": null,
   "metadata": {},
   "outputs": [],
   "source": []
  }
 ],
 "metadata": {
  "anaconda-cloud": {},
  "kernelspec": {
   "display_name": "Python 3",
   "language": "python",
   "name": "python3"
  },
  "language_info": {
   "codemirror_mode": {
    "name": "ipython",
    "version": 3
   },
   "file_extension": ".py",
   "mimetype": "text/x-python",
   "name": "python",
   "nbconvert_exporter": "python",
   "pygments_lexer": "ipython3",
   "version": "3.6.10"
  }
 },
 "nbformat": 4,
 "nbformat_minor": 2
}
